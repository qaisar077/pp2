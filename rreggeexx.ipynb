{
 "cells": [
  {
   "cell_type": "code",
   "execution_count": 2,
   "metadata": {},
   "outputs": [
    {
     "name": "stdout",
     "output_type": "stream",
     "text": [
      "a: True\n",
      "ab: True\n",
      "abb: True\n",
      "baac: False\n",
      "ab0: False\n"
     ]
    }
   ],
   "source": [
    "#1\n",
    "import re\n",
    "\n",
    "def match_pattern(str):\n",
    "  pattern = r'^ab*$'\n",
    "  \n",
    "  if re.fullmatch(pattern, str):\n",
    "    return True\n",
    "  else:\n",
    "    return False\n",
    "lst = [\"a\", \"ab\", \"abb\", \"baac\", \"ab0\"]\n",
    "for str in lst:\n",
    "  print(f\"{str}: {match_pattern(str)}\")"
   ]
  },
  {
   "cell_type": "code",
   "execution_count": 3,
   "metadata": {},
   "outputs": [
    {
     "name": "stdout",
     "output_type": "stream",
     "text": [
      "a : False\n",
      "ab : False\n",
      "abb : True\n",
      "abbb : True\n",
      "ab0 : False\n"
     ]
    }
   ],
   "source": [
    "#2\n",
    "import re\n",
    "\n",
    "def match_pattern(str):\n",
    "  pattern = r'^ab{2,3}$'\n",
    "\n",
    "  if re.fullmatch(pattern, str):\n",
    "    return True\n",
    "  else:\n",
    "    return False\n",
    "\n",
    "\n",
    "lst = [\"a\", \"ab\", \"abb\", \"abbb\", \"ab0\"]\n",
    "for str in lst:\n",
    "  print(f\"{str} : {match_pattern(str)}\")"
   ]
  },
  {
   "cell_type": "code",
   "execution_count": 4,
   "metadata": {},
   "outputs": [
    {
     "name": "stdout",
     "output_type": "stream",
     "text": [
      "boba_baba : True\n",
      "bubble_tea : True\n",
      "Bob_ : False\n",
      "_Alice : False\n",
      "_Jay_ : False\n"
     ]
    }
   ],
   "source": [
    "#3  \n",
    "import re\n",
    "\n",
    "def match_pattern(str):\n",
    "  pattern = r'^[a-z]+_[a-z]+$'\n",
    "\n",
    "  if re.fullmatch(pattern, str):\n",
    "    return True\n",
    "  else:\n",
    "    return False\n",
    "\n",
    "\n",
    "lst = [\"boba_baba\", \"bubble_tea\", \"Bob_\", \"_Alice\", \"_Jay_\"]\n",
    "for str in lst:\n",
    "  print(f\"{str} : {match_pattern(str)}\")"
   ]
  },
  {
   "cell_type": "code",
   "execution_count": 5,
   "metadata": {},
   "outputs": [
    {
     "name": "stdout",
     "output_type": "stream",
     "text": [
      "pKaz : False\n",
      "O0z : False\n",
      "Kzi : True\n",
      "Anv : True\n",
      "Ab : True\n"
     ]
    }
   ],
   "source": [
    "#4\n",
    "import re\n",
    "\n",
    "def match_pattern(str):\n",
    "  pattern = r'^[A-Z]{1}[a-z]+$'\n",
    "\n",
    "  if re.fullmatch(pattern, str):\n",
    "    return True\n",
    "  else:\n",
    "    return False\n",
    "\n",
    "\n",
    "lst = [\"pKaz\", \"O0z\", \"Kzi\", \"Anv\", \"Ab\"]\n",
    "for str in lst:\n",
    "  print(f\"{str} : {match_pattern(str)}\")"
   ]
  },
  {
   "cell_type": "code",
   "execution_count": 6,
   "metadata": {},
   "outputs": [
    {
     "name": "stdout",
     "output_type": "stream",
     "text": [
      "a1@3b : True\n",
      "a)c;v_b : True\n",
      "aKFDOK : False\n",
      "AckzB : False\n",
      "Ab : False\n"
     ]
    }
   ],
   "source": [
    "#5\n",
    "import re\n",
    "\n",
    "def match_pattern(str):\n",
    "  pattern = r'^a.*b$'\n",
    "\n",
    "  if re.fullmatch(pattern, str):\n",
    "    return True\n",
    "  else:\n",
    "    return False\n",
    "\n",
    "\n",
    "lst = [\"a1@3b\", \"a)c;v_b\", \"aKFDOK\", \"AckzB\", \"Ab\"]\n",
    "for str in lst:\n",
    "  print(f\"{str} : {match_pattern(str)}\")"
   ]
  },
  {
   "cell_type": "code",
   "execution_count": 7,
   "metadata": {},
   "outputs": [
    {
     "name": "stdout",
     "output_type": "stream",
     "text": [
      "Hello:User::Welcome:\n"
     ]
    }
   ],
   "source": [
    "#6\n",
    "import re\n",
    "\n",
    "def replace(txt):\n",
    "  return re.sub(r\"[ ,.]\", ':', txt)\n",
    "\n",
    "txt = \"Hello User, Welcome.\"\n",
    "print(replace(txt))"
   ]
  },
  {
   "cell_type": "code",
   "execution_count": 8,
   "metadata": {},
   "outputs": [
    {
     "name": "stdout",
     "output_type": "stream",
     "text": [
      "heyThereWhatAreYouDoin'\n"
     ]
    }
   ],
   "source": [
    "#7\n",
    "import re\n",
    "\n",
    "def toCamel(txt):\n",
    "  return re.sub(r\"_([a-z])\", lambda match: match.group(1).upper(), txt)\n",
    "\n",
    "txt = \"hey_there_what_are_you_doin'\"\n",
    "print(toCamel(txt))"
   ]
  },
  {
   "cell_type": "code",
   "execution_count": 9,
   "metadata": {},
   "outputs": [
    {
     "name": "stdout",
     "output_type": "stream",
     "text": [
      "['Hello', 'World', 'Wow', 'Hey']\n"
     ]
    }
   ],
   "source": [
    "#8\n",
    "import re\n",
    "\n",
    "def split(s):\n",
    "  return re.findall(r'[A-Z][^A-Z]*', s)\n",
    "\n",
    "s = \"HelloWorldWowHey\"\n",
    "print(split(s))  "
   ]
  },
  {
   "cell_type": "code",
   "execution_count": 10,
   "metadata": {},
   "outputs": [
    {
     "name": "stdout",
     "output_type": "stream",
     "text": [
      " Hello World Wow Hey\n"
     ]
    }
   ],
   "source": [
    "#9\n",
    "import re\n",
    "\n",
    "def add_spaces(s):\n",
    "  return ' '.join(re.split(r'(?=[A-Z])', s))\n",
    "\n",
    "s = \"HelloWorldWowHey\"\n",
    "print(add_spaces(s))"
   ]
  },
  {
   "cell_type": "code",
   "execution_count": 11,
   "metadata": {},
   "outputs": [
    {
     "name": "stdout",
     "output_type": "stream",
     "text": [
      "to_string\n"
     ]
    }
   ],
   "source": [
    "#10\n",
    "import re\n",
    "\n",
    "def toSnake(txt):\n",
    "  return re.sub(r'(?<!^)(?=[A-Z])', '_', txt).lower()\n",
    "\n",
    "txt = \"toString\"\n",
    "print(toSnake(txt)) "
   ]
  }
 ],
 "metadata": {
  "kernelspec": {
   "display_name": "Python 3",
   "language": "python",
   "name": "python3"
  },
  "language_info": {
   "codemirror_mode": {
    "name": "ipython",
    "version": 3
   },
   "file_extension": ".py",
   "mimetype": "text/x-python",
   "name": "python",
   "nbconvert_exporter": "python",
   "pygments_lexer": "ipython3",
   "version": "3.9.6"
  }
 },
 "nbformat": 4,
 "nbformat_minor": 2
}
