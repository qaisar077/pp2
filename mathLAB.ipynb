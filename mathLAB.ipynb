{
 "cells": [
  {
   "cell_type": "code",
   "execution_count": 5,
   "metadata": {},
   "outputs": [
    {
     "name": "stdout",
     "output_type": "stream",
     "text": [
      "55.0 degrees is equal to 0.9599310885968813 radians\n"
     ]
    }
   ],
   "source": [
    "import math\n",
    "\n",
    "def degrees_to_radians(degrees):\n",
    "    return degrees * (math.pi / 180)\n",
    "\n",
    "degrees = float(input(\"Enter degrees: \"))\n",
    "radians = degrees_to_radians(degrees)\n",
    "print(f\"{degrees} degrees is equal to {radians} radians\")"
   ]
  },
  {
   "cell_type": "code",
   "execution_count": 6,
   "metadata": {},
   "outputs": [
    {
     "name": "stdout",
     "output_type": "stream",
     "text": [
      "The area of the trapezoid is: 192.5\n"
     ]
    }
   ],
   "source": [
    "import math\n",
    "def trapezoid_area(base1, base2, height):\n",
    "    return ((base1 + base2) * height) / 2\n",
    "\n",
    "base1 = float(input(\"Enter the first base length: \"))\n",
    "base2 = float(input(\"Enter the second base length: \"))\n",
    "height = float(input(\"Enter the height: \"))\n",
    "\n",
    "area = trapezoid_area(base1, base2, height)\n",
    "\n",
    "print(f\"The area of the trapezoid is: {area}\")"
   ]
  },
  {
   "cell_type": "code",
   "execution_count": 7,
   "metadata": {},
   "outputs": [
    {
     "name": "stdout",
     "output_type": "stream",
     "text": [
      "The area of the polygon is: 22988.79\n"
     ]
    }
   ],
   "source": [
    "import math\n",
    "def polygon(sides, length):\n",
    "    return round((sides * (length ** 2)) / (4 * math.tan(math.pi / sides)), 2)\n",
    "\n",
    "n = int(input(\"Input number of sides: \"))\n",
    "s = float(input(\"Input the length of a side: \"))\n",
    "print(\"The area of the polygon is:\", polygon(n, s))"
   ]
  },
  {
   "cell_type": "code",
   "execution_count": 8,
   "metadata": {},
   "outputs": [
    {
     "name": "stdout",
     "output_type": "stream",
     "text": [
      "Expected Output: 4.83\n"
     ]
    }
   ],
   "source": [
    "import math\n",
    "def parallelogram(base, height):\n",
    "    return base * height\n",
    "\n",
    "base = float(input(\"Length of base: \"))\n",
    "height = float(input(\"Height of parallelogram: \"))\n",
    "print(\"Expected Output:\", parallelogram(base, height))"
   ]
  }
 ],
 "metadata": {
  "kernelspec": {
   "display_name": "Python 3",
   "language": "python",
   "name": "python3"
  },
  "language_info": {
   "codemirror_mode": {
    "name": "ipython",
    "version": 3
   },
   "file_extension": ".py",
   "mimetype": "text/x-python",
   "name": "python",
   "nbconvert_exporter": "python",
   "pygments_lexer": "ipython3",
   "version": "3.11.9"
  }
 },
 "nbformat": 4,
 "nbformat_minor": 2
}
