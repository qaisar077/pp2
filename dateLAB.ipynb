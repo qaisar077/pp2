{
 "cells": [
  {
   "cell_type": "code",
   "execution_count": 2,
   "metadata": {},
   "outputs": [
    {
     "name": "stdout",
     "output_type": "stream",
     "text": [
      "Date 5 days ago: 2025-02-16\n"
     ]
    }
   ],
   "source": [
    "import datetime\n",
    "current_date = datetime.date.today()\n",
    "new_date = current_date - datetime.timedelta(days=5)\n",
    "print(\"Date 5 days ago:\", new_date)"
   ]
  },
  {
   "cell_type": "code",
   "execution_count": 3,
   "metadata": {},
   "outputs": [
    {
     "name": "stdout",
     "output_type": "stream",
     "text": [
      "Yesterday: 2025-02-20\n",
      "Today: 2025-02-21\n",
      "Tomorrow: 2025-02-22\n"
     ]
    }
   ],
   "source": [
    "import datetime\n",
    "yesterday = current_date - datetime.timedelta(days=1)\n",
    "tomorrow = current_date + datetime.timedelta(days=1)\n",
    "print(\"Yesterday:\", yesterday)\n",
    "print(\"Today:\", current_date)\n",
    "print(\"Tomorrow:\", tomorrow)"
   ]
  },
  {
   "cell_type": "code",
   "execution_count": 4,
   "metadata": {},
   "outputs": [
    {
     "name": "stdout",
     "output_type": "stream",
     "text": [
      "Datetime without microseconds: 2025-02-21 22:10:28\n"
     ]
    }
   ],
   "source": [
    "import datetime\n",
    "current_datetime = datetime.datetime.now().replace(microsecond=0)\n",
    "print(\"Datetime without microseconds:\", current_datetime)"
   ]
  },
  {
   "cell_type": "code",
   "execution_count": 5,
   "metadata": {},
   "outputs": [
    {
     "name": "stdout",
     "output_type": "stream",
     "text": [
      "Difference in seconds: 777600.0\n"
     ]
    }
   ],
   "source": [
    "import datetime\n",
    "def date_difference_in_seconds(date1, date2):\n",
    "    delta = date2 - date1\n",
    "    return delta.total_seconds()\n",
    "\n",
    "date1 = datetime.datetime(2024, 2, 1, 12, 0, 0)\n",
    "date2 = datetime.datetime(2024, 2, 10, 12, 0, 0)\n",
    "print(\"Difference in seconds:\", date_difference_in_seconds(date1, date2))"
   ]
  }
 ],
 "metadata": {
  "kernelspec": {
   "display_name": "Python 3",
   "language": "python",
   "name": "python3"
  },
  "language_info": {
   "codemirror_mode": {
    "name": "ipython",
    "version": 3
   },
   "file_extension": ".py",
   "mimetype": "text/x-python",
   "name": "python",
   "nbconvert_exporter": "python",
   "pygments_lexer": "ipython3",
   "version": "3.11.9"
  }
 },
 "nbformat": 4,
 "nbformat_minor": 2
}
