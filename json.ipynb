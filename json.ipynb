{
 "cells": [
  {
   "cell_type": "code",
   "execution_count": 7,
   "metadata": {},
   "outputs": [
    {
     "name": "stdout",
     "output_type": "stream",
     "text": [
      "Interface ID | Admin State | Speed    | MTU    | Mode     | Usage\n",
      "-----------------------------------------------------------------------------\n",
      "eth1/33      | up         | inherit  | 9150   | trunk    | fabric,fabric-ext\n",
      "eth1/34      | up         | inherit  | 9150   | trunk    | fabric,fabric-ext\n",
      "eth1/35      | up         | inherit  | 9150   | trunk    | fabric,fabric-ext\n",
      "eth1/36      | up         | inherit  | 9150   | trunk    | fabric,fabric-ext\n",
      "eth1/1       | up         | inherit  | 9150   | trunk    | fabric\n",
      "eth1/2       | up         | inherit  | 9150   | trunk    | fabric\n",
      "eth1/3       | up         | inherit  | 9150   | trunk    | fabric\n",
      "eth1/4       | up         | inherit  | 9150   | trunk    | fabric\n",
      "eth1/5       | up         | inherit  | 9150   | trunk    | fabric,fabric-ext\n",
      "eth1/6       | up         | inherit  | 9150   | trunk    | fabric,fabric-ext\n",
      "eth1/7       | up         | inherit  | 9150   | trunk    | fabric,fabric-ext\n",
      "eth1/8       | up         | inherit  | 9150   | trunk    | fabric,fabric-ext\n",
      "eth1/9       | up         | inherit  | 9150   | trunk    | fabric,fabric-ext\n",
      "eth1/10      | up         | inherit  | 9150   | trunk    | fabric,fabric-ext\n",
      "eth1/11      | up         | inherit  | 9150   | trunk    | fabric,fabric-ext\n",
      "eth1/12      | up         | inherit  | 9150   | trunk    | fabric,fabric-ext\n",
      "eth1/13      | up         | inherit  | 9150   | trunk    | fabric,fabric-ext\n",
      "eth1/14      | up         | inherit  | 9150   | trunk    | fabric,fabric-ext\n"
     ]
    }
   ],
   "source": [
    "import json\n",
    "\n",
    "\n",
    "with open(\"sample-data.json\", \"r\") as file:\n",
    "    data = json.load(file)\n",
    "\n",
    "\n",
    "print(f\"{'Interface ID':<12} | {'Admin State':<10} | {'Speed':<8} | {'MTU':<6} | {'Mode':<8} | {'Usage'}\")\n",
    "print(\"-\" * 77)\n",
    "\n",
    "\n",
    "for item in data[\"imdata\"]:\n",
    "    attributes = item[\"l1PhysIf\"][\"attributes\"]\n",
    "    interface_id = attributes[\"id\"]\n",
    "    admin_state = attributes[\"adminSt\"]\n",
    "    speed = attributes[\"speed\"]\n",
    "    mtu = attributes[\"mtu\"]\n",
    "    mode = attributes[\"mode\"]\n",
    "    usage = attributes[\"usage\"]\n",
    "    \n",
    "    print(f\"{interface_id:<12} | {admin_state:<10} | {speed:<8} | {mtu:<6} | {mode:<8} | {usage}\")"
   ]
  }
 ],
 "metadata": {
  "kernelspec": {
   "display_name": "Python 3",
   "language": "python",
   "name": "python3"
  },
  "language_info": {
   "codemirror_mode": {
    "name": "ipython",
    "version": 3
   },
   "file_extension": ".py",
   "mimetype": "text/x-python",
   "name": "python",
   "nbconvert_exporter": "python",
   "pygments_lexer": "ipython3",
   "version": "3.11.9"
  }
 },
 "nbformat": 4,
 "nbformat_minor": 2
}
